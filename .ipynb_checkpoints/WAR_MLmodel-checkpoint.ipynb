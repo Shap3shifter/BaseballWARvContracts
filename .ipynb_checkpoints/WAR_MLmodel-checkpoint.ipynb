{
 "cells": [
  {
   "cell_type": "markdown",
   "id": "conscious-australia",
   "metadata": {},
   "source": [
    "## Machine Learning Model "
   ]
  },
  {
   "cell_type": "code",
   "execution_count": 1,
   "id": "extraordinary-cycling",
   "metadata": {},
   "outputs": [],
   "source": [
    "import psycopg2\n",
    "import pandas as pd\n",
    "import pandas.io.sql as sqlio\n",
    "from config import database, user, password, host, port\n",
    "\n",
    "con = psycopg2.connect(database=database, user=user, password=password, host=host, port=port)\n",
    "sql = \"SELECT * FROM Players;\"\n",
    "all_df = sqlio.read_sql_query(sql, con)\n",
    "con = None"
   ]
  },
  {
   "cell_type": "code",
   "execution_count": 2,
   "id": "neural-amsterdam",
   "metadata": {},
   "outputs": [],
   "source": [
    "import warnings\n",
    "warnings.filterwarnings('ignore')"
   ]
  },
  {
   "cell_type": "code",
   "execution_count": 3,
   "id": "tamil-repair",
   "metadata": {},
   "outputs": [],
   "source": [
    "import numpy as np\n",
    "from sklearn.metrics import balanced_accuracy_score\n",
    "from sklearn.metrics import confusion_matrix\n",
    "from imblearn.metrics import classification_report_imbalanced\n",
    "from sklearn.preprocessing import LabelEncoder"
   ]
  },
  {
   "cell_type": "markdown",
   "id": "graduate-attempt",
   "metadata": {},
   "source": [
    "#### Postgresql DB connection \n",
    "    we will display the dataframe now that we have connected to the postgresql with our notebook and we will display it through pandas."
   ]
  },
  {
   "cell_type": "code",
   "execution_count": 4,
   "id": "single-label",
   "metadata": {},
   "outputs": [
    {
     "data": {
      "text/html": [
       "<div>\n",
       "<style scoped>\n",
       "    .dataframe tbody tr th:only-of-type {\n",
       "        vertical-align: middle;\n",
       "    }\n",
       "\n",
       "    .dataframe tbody tr th {\n",
       "        vertical-align: top;\n",
       "    }\n",
       "\n",
       "    .dataframe thead th {\n",
       "        text-align: right;\n",
       "    }\n",
       "</style>\n",
       "<table border=\"1\" class=\"dataframe\">\n",
       "  <thead>\n",
       "    <tr style=\"text-align: right;\">\n",
       "      <th></th>\n",
       "      <th>name</th>\n",
       "      <th>age</th>\n",
       "      <th>year</th>\n",
       "      <th>team</th>\n",
       "      <th>league</th>\n",
       "      <th>player_salary</th>\n",
       "      <th>percent_season_played</th>\n",
       "      <th>war_psp</th>\n",
       "      <th>num_dl_movements</th>\n",
       "      <th>team_win_percentage</th>\n",
       "      <th>team_payroll</th>\n",
       "      <th>percent_contract_complete</th>\n",
       "    </tr>\n",
       "  </thead>\n",
       "  <tbody>\n",
       "    <tr>\n",
       "      <th>0</th>\n",
       "      <td>Bobby Abreu</td>\n",
       "      <td>26</td>\n",
       "      <td>2000</td>\n",
       "      <td>PHI</td>\n",
       "      <td>NL</td>\n",
       "      <td>4354977</td>\n",
       "      <td>0.994676</td>\n",
       "      <td>6.213081</td>\n",
       "      <td>0</td>\n",
       "      <td>0.401235</td>\n",
       "      <td>69700927</td>\n",
       "      <td>33.333332</td>\n",
       "    </tr>\n",
       "    <tr>\n",
       "      <th>1</th>\n",
       "      <td>Bobby Abreu</td>\n",
       "      <td>27</td>\n",
       "      <td>2001</td>\n",
       "      <td>PHI</td>\n",
       "      <td>NL</td>\n",
       "      <td>7193330</td>\n",
       "      <td>1.029782</td>\n",
       "      <td>5.039903</td>\n",
       "      <td>0</td>\n",
       "      <td>0.530864</td>\n",
       "      <td>60144837</td>\n",
       "      <td>66.666664</td>\n",
       "    </tr>\n",
       "    <tr>\n",
       "      <th>2</th>\n",
       "      <td>Bobby Abreu</td>\n",
       "      <td>28</td>\n",
       "      <td>2002</td>\n",
       "      <td>PHI</td>\n",
       "      <td>NL</td>\n",
       "      <td>9000338</td>\n",
       "      <td>1.001989</td>\n",
       "      <td>5.818425</td>\n",
       "      <td>0</td>\n",
       "      <td>0.493827</td>\n",
       "      <td>82364470</td>\n",
       "      <td>100.000000</td>\n",
       "    </tr>\n",
       "    <tr>\n",
       "      <th>3</th>\n",
       "      <td>Bobby Abreu</td>\n",
       "      <td>29</td>\n",
       "      <td>2003</td>\n",
       "      <td>PHI</td>\n",
       "      <td>NL</td>\n",
       "      <td>12643905</td>\n",
       "      <td>1.016617</td>\n",
       "      <td>5.282226</td>\n",
       "      <td>0</td>\n",
       "      <td>0.530864</td>\n",
       "      <td>98344579</td>\n",
       "      <td>16.666668</td>\n",
       "    </tr>\n",
       "    <tr>\n",
       "      <th>4</th>\n",
       "      <td>Bobby Abreu</td>\n",
       "      <td>30</td>\n",
       "      <td>2004</td>\n",
       "      <td>PHI</td>\n",
       "      <td>NL</td>\n",
       "      <td>14346025</td>\n",
       "      <td>1.042947</td>\n",
       "      <td>6.289872</td>\n",
       "      <td>0</td>\n",
       "      <td>0.530864</td>\n",
       "      <td>126162692</td>\n",
       "      <td>33.333332</td>\n",
       "    </tr>\n",
       "  </tbody>\n",
       "</table>\n",
       "</div>"
      ],
      "text/plain": [
       "          name  age  year team league  player_salary  percent_season_played  \\\n",
       "0  Bobby Abreu   26  2000  PHI     NL        4354977               0.994676   \n",
       "1  Bobby Abreu   27  2001  PHI     NL        7193330               1.029782   \n",
       "2  Bobby Abreu   28  2002  PHI     NL        9000338               1.001989   \n",
       "3  Bobby Abreu   29  2003  PHI     NL       12643905               1.016617   \n",
       "4  Bobby Abreu   30  2004  PHI     NL       14346025               1.042947   \n",
       "\n",
       "    war_psp  num_dl_movements  team_win_percentage  team_payroll  \\\n",
       "0  6.213081                 0             0.401235      69700927   \n",
       "1  5.039903                 0             0.530864      60144837   \n",
       "2  5.818425                 0             0.493827      82364470   \n",
       "3  5.282226                 0             0.530864      98344579   \n",
       "4  6.289872                 0             0.530864     126162692   \n",
       "\n",
       "   percent_contract_complete  \n",
       "0                  33.333332  \n",
       "1                  66.666664  \n",
       "2                 100.000000  \n",
       "3                  16.666668  \n",
       "4                  33.333332  "
      ]
     },
     "execution_count": 4,
     "metadata": {},
     "output_type": "execute_result"
    }
   ],
   "source": [
    "all_df.head()"
   ]
  },
  {
   "cell_type": "markdown",
   "id": "rotary-queue",
   "metadata": {},
   "source": [
    "#### Columns and Target Variable\n",
    "    We will create a list of the columns that are useful for our data as well as pick our target column - which is the WAR (Wins above Replacement) since that is our predictor variable."
   ]
  },
  {
   "cell_type": "code",
   "execution_count": 5,
   "id": "respective-electricity",
   "metadata": {},
   "outputs": [],
   "source": [
    "columns = [\"name\", \"age\", \"year\", \"team\", \"division\", \"league\", \"player_salary\", \"percent_season_played\", \"num_dl_movements\", \"team_win_percentage\", \n",
    "           \"team_payroll\", \"percent_contract_complete\"]\n",
    "          \n",
    "\n",
    "target = [\"war_psp\"]\n"
   ]
  },
  {
   "cell_type": "markdown",
   "id": "alternative-buffer",
   "metadata": {},
   "source": [
    "##### Variables to encode: team & league"
   ]
  },
  {
   "cell_type": "markdown",
   "id": "neutral-lotus",
   "metadata": {},
   "source": [
    "    Loading in the data and cleaning it will be the next steps in this analysis. \n",
    "\n",
    "    We are first going to encode the categorical variables team and league in order to use them in our regression analysis.\n",
    "\n",
    "    This will allow us to separate the data into testing and training sets. This is a resampling method. "
   ]
  },
  {
   "cell_type": "code",
   "execution_count": 6,
   "id": "flying-collect",
   "metadata": {},
   "outputs": [
    {
     "data": {
      "text/html": [
       "<div>\n",
       "<style scoped>\n",
       "    .dataframe tbody tr th:only-of-type {\n",
       "        vertical-align: middle;\n",
       "    }\n",
       "\n",
       "    .dataframe tbody tr th {\n",
       "        vertical-align: top;\n",
       "    }\n",
       "\n",
       "    .dataframe thead th {\n",
       "        text-align: right;\n",
       "    }\n",
       "</style>\n",
       "<table border=\"1\" class=\"dataframe\">\n",
       "  <thead>\n",
       "    <tr style=\"text-align: right;\">\n",
       "      <th></th>\n",
       "      <th>name</th>\n",
       "      <th>age</th>\n",
       "      <th>year</th>\n",
       "      <th>team</th>\n",
       "      <th>player_salary</th>\n",
       "      <th>percent_season_played</th>\n",
       "      <th>war_psp</th>\n",
       "      <th>num_dl_movements</th>\n",
       "      <th>team_win_percentage</th>\n",
       "      <th>team_payroll</th>\n",
       "      <th>percent_contract_complete</th>\n",
       "      <th>league_AL</th>\n",
       "      <th>league_AL/NL</th>\n",
       "      <th>league_NL</th>\n",
       "      <th>league_NL/AL</th>\n",
       "      <th>league_NL/AL/AL</th>\n",
       "      <th>league_NL/AL/NL</th>\n",
       "    </tr>\n",
       "  </thead>\n",
       "  <tbody>\n",
       "    <tr>\n",
       "      <th>0</th>\n",
       "      <td>Bobby Abreu</td>\n",
       "      <td>26</td>\n",
       "      <td>2000</td>\n",
       "      <td>PHI</td>\n",
       "      <td>4354977</td>\n",
       "      <td>0.994676</td>\n",
       "      <td>6.213081</td>\n",
       "      <td>0</td>\n",
       "      <td>0.401235</td>\n",
       "      <td>69700927</td>\n",
       "      <td>33.333332</td>\n",
       "      <td>0</td>\n",
       "      <td>0</td>\n",
       "      <td>1</td>\n",
       "      <td>0</td>\n",
       "      <td>0</td>\n",
       "      <td>0</td>\n",
       "    </tr>\n",
       "    <tr>\n",
       "      <th>1</th>\n",
       "      <td>Bobby Abreu</td>\n",
       "      <td>27</td>\n",
       "      <td>2001</td>\n",
       "      <td>PHI</td>\n",
       "      <td>7193330</td>\n",
       "      <td>1.029782</td>\n",
       "      <td>5.039903</td>\n",
       "      <td>0</td>\n",
       "      <td>0.530864</td>\n",
       "      <td>60144837</td>\n",
       "      <td>66.666664</td>\n",
       "      <td>0</td>\n",
       "      <td>0</td>\n",
       "      <td>1</td>\n",
       "      <td>0</td>\n",
       "      <td>0</td>\n",
       "      <td>0</td>\n",
       "    </tr>\n",
       "    <tr>\n",
       "      <th>2</th>\n",
       "      <td>Bobby Abreu</td>\n",
       "      <td>28</td>\n",
       "      <td>2002</td>\n",
       "      <td>PHI</td>\n",
       "      <td>9000338</td>\n",
       "      <td>1.001989</td>\n",
       "      <td>5.818425</td>\n",
       "      <td>0</td>\n",
       "      <td>0.493827</td>\n",
       "      <td>82364470</td>\n",
       "      <td>100.000000</td>\n",
       "      <td>0</td>\n",
       "      <td>0</td>\n",
       "      <td>1</td>\n",
       "      <td>0</td>\n",
       "      <td>0</td>\n",
       "      <td>0</td>\n",
       "    </tr>\n",
       "    <tr>\n",
       "      <th>3</th>\n",
       "      <td>Bobby Abreu</td>\n",
       "      <td>29</td>\n",
       "      <td>2003</td>\n",
       "      <td>PHI</td>\n",
       "      <td>12643905</td>\n",
       "      <td>1.016617</td>\n",
       "      <td>5.282226</td>\n",
       "      <td>0</td>\n",
       "      <td>0.530864</td>\n",
       "      <td>98344579</td>\n",
       "      <td>16.666668</td>\n",
       "      <td>0</td>\n",
       "      <td>0</td>\n",
       "      <td>1</td>\n",
       "      <td>0</td>\n",
       "      <td>0</td>\n",
       "      <td>0</td>\n",
       "    </tr>\n",
       "    <tr>\n",
       "      <th>4</th>\n",
       "      <td>Bobby Abreu</td>\n",
       "      <td>30</td>\n",
       "      <td>2004</td>\n",
       "      <td>PHI</td>\n",
       "      <td>14346025</td>\n",
       "      <td>1.042947</td>\n",
       "      <td>6.289872</td>\n",
       "      <td>0</td>\n",
       "      <td>0.530864</td>\n",
       "      <td>126162692</td>\n",
       "      <td>33.333332</td>\n",
       "      <td>0</td>\n",
       "      <td>0</td>\n",
       "      <td>1</td>\n",
       "      <td>0</td>\n",
       "      <td>0</td>\n",
       "      <td>0</td>\n",
       "    </tr>\n",
       "  </tbody>\n",
       "</table>\n",
       "</div>"
      ],
      "text/plain": [
       "          name  age  year team  player_salary  percent_season_played  \\\n",
       "0  Bobby Abreu   26  2000  PHI        4354977               0.994676   \n",
       "1  Bobby Abreu   27  2001  PHI        7193330               1.029782   \n",
       "2  Bobby Abreu   28  2002  PHI        9000338               1.001989   \n",
       "3  Bobby Abreu   29  2003  PHI       12643905               1.016617   \n",
       "4  Bobby Abreu   30  2004  PHI       14346025               1.042947   \n",
       "\n",
       "    war_psp  num_dl_movements  team_win_percentage  team_payroll  \\\n",
       "0  6.213081                 0             0.401235      69700927   \n",
       "1  5.039903                 0             0.530864      60144837   \n",
       "2  5.818425                 0             0.493827      82364470   \n",
       "3  5.282226                 0             0.530864      98344579   \n",
       "4  6.289872                 0             0.530864     126162692   \n",
       "\n",
       "   percent_contract_complete  league_AL  league_AL/NL  league_NL  \\\n",
       "0                  33.333332          0             0          1   \n",
       "1                  66.666664          0             0          1   \n",
       "2                 100.000000          0             0          1   \n",
       "3                  16.666668          0             0          1   \n",
       "4                  33.333332          0             0          1   \n",
       "\n",
       "   league_NL/AL  league_NL/AL/AL  league_NL/AL/NL  \n",
       "0             0                0                0  \n",
       "1             0                0                0  \n",
       "2             0                0                0  \n",
       "3             0                0                0  \n",
       "4             0                0                0  "
      ]
     },
     "execution_count": 6,
     "metadata": {},
     "output_type": "execute_result"
    }
   ],
   "source": [
    "league_binary_encoded = pd.get_dummies(all_df, columns=[\"league\"])\n",
    "league_binary_encoded.head()"
   ]
  },
  {
   "cell_type": "code",
   "execution_count": 7,
   "id": "subsequent-entry",
   "metadata": {},
   "outputs": [
    {
     "data": {
      "text/html": [
       "<div>\n",
       "<style scoped>\n",
       "    .dataframe tbody tr th:only-of-type {\n",
       "        vertical-align: middle;\n",
       "    }\n",
       "\n",
       "    .dataframe tbody tr th {\n",
       "        vertical-align: top;\n",
       "    }\n",
       "\n",
       "    .dataframe thead th {\n",
       "        text-align: right;\n",
       "    }\n",
       "</style>\n",
       "<table border=\"1\" class=\"dataframe\">\n",
       "  <thead>\n",
       "    <tr style=\"text-align: right;\">\n",
       "      <th></th>\n",
       "      <th>name</th>\n",
       "      <th>age</th>\n",
       "      <th>year</th>\n",
       "      <th>team</th>\n",
       "      <th>player_salary</th>\n",
       "      <th>percent_season_played</th>\n",
       "      <th>war_psp</th>\n",
       "      <th>num_dl_movements</th>\n",
       "      <th>team_win_percentage</th>\n",
       "      <th>team_payroll</th>\n",
       "      <th>percent_contract_complete</th>\n",
       "      <th>league_AL</th>\n",
       "      <th>league_AL/NL</th>\n",
       "      <th>league_NL</th>\n",
       "      <th>league_NL/AL</th>\n",
       "      <th>league_NL/AL/AL</th>\n",
       "      <th>league_NL/AL/NL</th>\n",
       "    </tr>\n",
       "  </thead>\n",
       "  <tbody>\n",
       "    <tr>\n",
       "      <th>320</th>\n",
       "      <td>David DeJesus</td>\n",
       "      <td>33</td>\n",
       "      <td>2013</td>\n",
       "      <td>CHC/TBR/WSN</td>\n",
       "      <td>4664132</td>\n",
       "      <td>0.642151</td>\n",
       "      <td>2.958806</td>\n",
       "      <td>1</td>\n",
       "      <td>0.502058</td>\n",
       "      <td>100091461</td>\n",
       "      <td>66.666664</td>\n",
       "      <td>0</td>\n",
       "      <td>0</td>\n",
       "      <td>0</td>\n",
       "      <td>0</td>\n",
       "      <td>0</td>\n",
       "      <td>1</td>\n",
       "    </tr>\n",
       "  </tbody>\n",
       "</table>\n",
       "</div>"
      ],
      "text/plain": [
       "              name  age  year         team  player_salary  \\\n",
       "320  David DeJesus   33  2013  CHC/TBR/WSN        4664132   \n",
       "\n",
       "     percent_season_played   war_psp  num_dl_movements  team_win_percentage  \\\n",
       "320               0.642151  2.958806                 1             0.502058   \n",
       "\n",
       "     team_payroll  percent_contract_complete  league_AL  league_AL/NL  \\\n",
       "320     100091461                  66.666664          0             0   \n",
       "\n",
       "     league_NL  league_NL/AL  league_NL/AL/AL  league_NL/AL/NL  \n",
       "320          0             0                0                1  "
      ]
     },
     "execution_count": 7,
     "metadata": {},
     "output_type": "execute_result"
    }
   ],
   "source": [
    "league_binary_encoded.loc[(league_binary_encoded[\"league_NL/AL/NL\"] == 1)]"
   ]
  },
  {
   "cell_type": "code",
   "execution_count": 8,
   "id": "urban-recipe",
   "metadata": {
    "scrolled": true
   },
   "outputs": [
    {
     "data": {
      "text/html": [
       "<div>\n",
       "<style scoped>\n",
       "    .dataframe tbody tr th:only-of-type {\n",
       "        vertical-align: middle;\n",
       "    }\n",
       "\n",
       "    .dataframe tbody tr th {\n",
       "        vertical-align: top;\n",
       "    }\n",
       "\n",
       "    .dataframe thead th {\n",
       "        text-align: right;\n",
       "    }\n",
       "</style>\n",
       "<table border=\"1\" class=\"dataframe\">\n",
       "  <thead>\n",
       "    <tr style=\"text-align: right;\">\n",
       "      <th></th>\n",
       "      <th>name</th>\n",
       "      <th>age</th>\n",
       "      <th>year</th>\n",
       "      <th>team</th>\n",
       "      <th>player_salary</th>\n",
       "      <th>percent_season_played</th>\n",
       "      <th>war_psp</th>\n",
       "      <th>num_dl_movements</th>\n",
       "      <th>team_win_percentage</th>\n",
       "      <th>team_payroll</th>\n",
       "      <th>percent_contract_complete</th>\n",
       "      <th>league_AL</th>\n",
       "      <th>league_AL/NL</th>\n",
       "      <th>league_NL</th>\n",
       "      <th>league_NL/AL</th>\n",
       "      <th>league_NL/AL/AL</th>\n",
       "      <th>league_NL/AL/NL</th>\n",
       "    </tr>\n",
       "  </thead>\n",
       "  <tbody>\n",
       "    <tr>\n",
       "      <th>1731</th>\n",
       "      <td>Jaime Garcia</td>\n",
       "      <td>30</td>\n",
       "      <td>2017</td>\n",
       "      <td>ATL/MIN/NYY</td>\n",
       "      <td>12515845</td>\n",
       "      <td>0.839572</td>\n",
       "      <td>1.465032</td>\n",
       "      <td>0</td>\n",
       "      <td>0.510288</td>\n",
       "      <td>142025719</td>\n",
       "      <td>100.0</td>\n",
       "      <td>0</td>\n",
       "      <td>0</td>\n",
       "      <td>0</td>\n",
       "      <td>0</td>\n",
       "      <td>1</td>\n",
       "      <td>0</td>\n",
       "    </tr>\n",
       "  </tbody>\n",
       "</table>\n",
       "</div>"
      ],
      "text/plain": [
       "              name  age  year         team  player_salary  \\\n",
       "1731  Jaime Garcia   30  2017  ATL/MIN/NYY       12515845   \n",
       "\n",
       "      percent_season_played   war_psp  num_dl_movements  team_win_percentage  \\\n",
       "1731               0.839572  1.465032                 0             0.510288   \n",
       "\n",
       "      team_payroll  percent_contract_complete  league_AL  league_AL/NL  \\\n",
       "1731     142025719                      100.0          0             0   \n",
       "\n",
       "      league_NL  league_NL/AL  league_NL/AL/AL  league_NL/AL/NL  \n",
       "1731          0             0                1                0  "
      ]
     },
     "execution_count": 8,
     "metadata": {},
     "output_type": "execute_result"
    }
   ],
   "source": [
    "league_binary_encoded.loc[(league_binary_encoded[\"league_NL/AL/AL\"] == 1)]"
   ]
  },
  {
   "cell_type": "code",
   "execution_count": null,
   "id": "constant-symbol",
   "metadata": {},
   "outputs": [],
   "source": []
  },
  {
   "cell_type": "markdown",
   "id": "automotive-subdivision",
   "metadata": {},
   "source": [
    "    These two players are the only ones that have been traded 2 times within a single season over the last 25 season, therefore there is not a significance for keeping these two players in our dataset. Removing two players' data is not going to change our results significantly enough due to the large sample size."
   ]
  },
  {
   "cell_type": "code",
   "execution_count": 9,
   "id": "interracial-mayor",
   "metadata": {},
   "outputs": [],
   "source": [
    "MLB_df = all_df.loc[(all_df[\"league\"] != \"NL/AL/NL\") & (all_df[\"league\"] != \"NL/AL/AL\")]\n"
   ]
  },
  {
   "cell_type": "code",
   "execution_count": 10,
   "id": "overall-acrylic",
   "metadata": {},
   "outputs": [
    {
     "data": {
      "text/html": [
       "<div>\n",
       "<style scoped>\n",
       "    .dataframe tbody tr th:only-of-type {\n",
       "        vertical-align: middle;\n",
       "    }\n",
       "\n",
       "    .dataframe tbody tr th {\n",
       "        vertical-align: top;\n",
       "    }\n",
       "\n",
       "    .dataframe thead th {\n",
       "        text-align: right;\n",
       "    }\n",
       "</style>\n",
       "<table border=\"1\" class=\"dataframe\">\n",
       "  <thead>\n",
       "    <tr style=\"text-align: right;\">\n",
       "      <th></th>\n",
       "      <th>name</th>\n",
       "      <th>age</th>\n",
       "      <th>year</th>\n",
       "      <th>team</th>\n",
       "      <th>league</th>\n",
       "      <th>player_salary</th>\n",
       "      <th>percent_season_played</th>\n",
       "      <th>war_psp</th>\n",
       "      <th>num_dl_movements</th>\n",
       "      <th>team_win_percentage</th>\n",
       "      <th>team_payroll</th>\n",
       "      <th>percent_contract_complete</th>\n",
       "    </tr>\n",
       "  </thead>\n",
       "  <tbody>\n",
       "  </tbody>\n",
       "</table>\n",
       "</div>"
      ],
      "text/plain": [
       "Empty DataFrame\n",
       "Columns: [name, age, year, team, league, player_salary, percent_season_played, war_psp, num_dl_movements, team_win_percentage, team_payroll, percent_contract_complete]\n",
       "Index: []"
      ]
     },
     "execution_count": 10,
     "metadata": {},
     "output_type": "execute_result"
    }
   ],
   "source": [
    "MLB_df.loc[(all_df[\"league\"] == \"NL/AL/AL\") | (all_df[\"league\"] == \"NL/AL/NL\")]"
   ]
  },
  {
   "cell_type": "code",
   "execution_count": 11,
   "id": "sharp-container",
   "metadata": {},
   "outputs": [
    {
     "data": {
      "text/plain": [
       "['NL', 'AL/NL', 'AL', 'NL/AL']"
      ]
     },
     "execution_count": 11,
     "metadata": {},
     "output_type": "execute_result"
    }
   ],
   "source": [
    "MLB_df[\"league\"].unique().tolist()"
   ]
  },
  {
   "cell_type": "code",
   "execution_count": 12,
   "id": "apart-documentary",
   "metadata": {},
   "outputs": [
    {
     "data": {
      "text/plain": [
       "name                         39\n",
       "age                          39\n",
       "year                         39\n",
       "team                         39\n",
       "player_salary                39\n",
       "percent_season_played        39\n",
       "war_psp                      39\n",
       "num_dl_movements             39\n",
       "team_win_percentage          39\n",
       "team_payroll                 39\n",
       "percent_contract_complete    39\n",
       "league_AL                    39\n",
       "league_AL/NL                 39\n",
       "league_NL                    39\n",
       "league_NL/AL                 39\n",
       "league_NL/AL/AL              39\n",
       "league_NL/AL/NL              39\n",
       "dtype: int64"
      ]
     },
     "execution_count": 12,
     "metadata": {},
     "output_type": "execute_result"
    }
   ],
   "source": [
    "league_binary_encoded.loc[(league_binary_encoded[\"league_NL/AL\"] == 1)].count()"
   ]
  },
  {
   "cell_type": "code",
   "execution_count": 13,
   "id": "verified-strength",
   "metadata": {},
   "outputs": [
    {
     "data": {
      "text/plain": [
       "name                         43\n",
       "age                          43\n",
       "year                         43\n",
       "team                         43\n",
       "player_salary                43\n",
       "percent_season_played        43\n",
       "war_psp                      43\n",
       "num_dl_movements             43\n",
       "team_win_percentage          43\n",
       "team_payroll                 43\n",
       "percent_contract_complete    43\n",
       "league_AL                    43\n",
       "league_AL/NL                 43\n",
       "league_NL                    43\n",
       "league_NL/AL                 43\n",
       "league_NL/AL/AL              43\n",
       "league_NL/AL/NL              43\n",
       "dtype: int64"
      ]
     },
     "execution_count": 13,
     "metadata": {},
     "output_type": "execute_result"
    }
   ],
   "source": [
    "league_binary_encoded.loc[(league_binary_encoded[\"league_AL/NL\"] == 1)].count()"
   ]
  },
  {
   "cell_type": "markdown",
   "id": "alternate-render",
   "metadata": {},
   "source": [
    "    To make the data more uniform - we are going to redefine all of the single trades in a season to be Uniform in AL/NL instead of both AL/NL and NL/AL "
   ]
  },
  {
   "cell_type": "code",
   "execution_count": 14,
   "id": "hidden-young",
   "metadata": {},
   "outputs": [],
   "source": [
    "MLB_df = MLB_df.replace(to_replace = \"NL/AL\", value=\"AL/NL\", regex=True)\n",
    "\n"
   ]
  },
  {
   "cell_type": "code",
   "execution_count": 15,
   "id": "local-assist",
   "metadata": {},
   "outputs": [
    {
     "data": {
      "text/plain": [
       "['NL', 'AL/NL', 'AL']"
      ]
     },
     "execution_count": 15,
     "metadata": {},
     "output_type": "execute_result"
    }
   ],
   "source": [
    "MLB_df[\"league\"].unique().tolist()"
   ]
  },
  {
   "cell_type": "markdown",
   "id": "electoral-cigarette",
   "metadata": {},
   "source": [
    "    above we have shown that the new all_df we will be working with has a uniform league column now - with no NL/AL values but with replaced AL/NL values. We have also reassured the absence of the multiple trades players. \n",
    "    \n",
    "    Now we will create the encoded values for the different leagues \n",
    "    \n",
    "    0 -> NL\n",
    "    1 -> AL\n",
    "    2 -> AL/NL\n",
    "    \n",
    "    and convert the values to the encoded values "
   ]
  },
  {
   "cell_type": "code",
   "execution_count": 16,
   "id": "requested-moisture",
   "metadata": {},
   "outputs": [
    {
     "data": {
      "text/html": [
       "<div>\n",
       "<style scoped>\n",
       "    .dataframe tbody tr th:only-of-type {\n",
       "        vertical-align: middle;\n",
       "    }\n",
       "\n",
       "    .dataframe tbody tr th {\n",
       "        vertical-align: top;\n",
       "    }\n",
       "\n",
       "    .dataframe thead th {\n",
       "        text-align: right;\n",
       "    }\n",
       "</style>\n",
       "<table border=\"1\" class=\"dataframe\">\n",
       "  <thead>\n",
       "    <tr style=\"text-align: right;\">\n",
       "      <th></th>\n",
       "      <th>name</th>\n",
       "      <th>age</th>\n",
       "      <th>year</th>\n",
       "      <th>team</th>\n",
       "      <th>league</th>\n",
       "      <th>player_salary</th>\n",
       "      <th>percent_season_played</th>\n",
       "      <th>war_psp</th>\n",
       "      <th>num_dl_movements</th>\n",
       "      <th>team_win_percentage</th>\n",
       "      <th>team_payroll</th>\n",
       "      <th>percent_contract_complete</th>\n",
       "    </tr>\n",
       "  </thead>\n",
       "  <tbody>\n",
       "    <tr>\n",
       "      <th>0</th>\n",
       "      <td>Bobby Abreu</td>\n",
       "      <td>26</td>\n",
       "      <td>2000</td>\n",
       "      <td>PHI</td>\n",
       "      <td>0</td>\n",
       "      <td>4354977</td>\n",
       "      <td>0.994676</td>\n",
       "      <td>6.213081</td>\n",
       "      <td>0</td>\n",
       "      <td>0.401235</td>\n",
       "      <td>69700927</td>\n",
       "      <td>33.333332</td>\n",
       "    </tr>\n",
       "    <tr>\n",
       "      <th>1</th>\n",
       "      <td>Bobby Abreu</td>\n",
       "      <td>27</td>\n",
       "      <td>2001</td>\n",
       "      <td>PHI</td>\n",
       "      <td>0</td>\n",
       "      <td>7193330</td>\n",
       "      <td>1.029782</td>\n",
       "      <td>5.039903</td>\n",
       "      <td>0</td>\n",
       "      <td>0.530864</td>\n",
       "      <td>60144837</td>\n",
       "      <td>66.666664</td>\n",
       "    </tr>\n",
       "    <tr>\n",
       "      <th>2</th>\n",
       "      <td>Bobby Abreu</td>\n",
       "      <td>28</td>\n",
       "      <td>2002</td>\n",
       "      <td>PHI</td>\n",
       "      <td>0</td>\n",
       "      <td>9000338</td>\n",
       "      <td>1.001989</td>\n",
       "      <td>5.818425</td>\n",
       "      <td>0</td>\n",
       "      <td>0.493827</td>\n",
       "      <td>82364470</td>\n",
       "      <td>100.000000</td>\n",
       "    </tr>\n",
       "    <tr>\n",
       "      <th>3</th>\n",
       "      <td>Bobby Abreu</td>\n",
       "      <td>29</td>\n",
       "      <td>2003</td>\n",
       "      <td>PHI</td>\n",
       "      <td>0</td>\n",
       "      <td>12643905</td>\n",
       "      <td>1.016617</td>\n",
       "      <td>5.282226</td>\n",
       "      <td>0</td>\n",
       "      <td>0.530864</td>\n",
       "      <td>98344579</td>\n",
       "      <td>16.666668</td>\n",
       "    </tr>\n",
       "    <tr>\n",
       "      <th>4</th>\n",
       "      <td>Bobby Abreu</td>\n",
       "      <td>30</td>\n",
       "      <td>2004</td>\n",
       "      <td>PHI</td>\n",
       "      <td>0</td>\n",
       "      <td>14346025</td>\n",
       "      <td>1.042947</td>\n",
       "      <td>6.289872</td>\n",
       "      <td>0</td>\n",
       "      <td>0.530864</td>\n",
       "      <td>126162692</td>\n",
       "      <td>33.333332</td>\n",
       "    </tr>\n",
       "  </tbody>\n",
       "</table>\n",
       "</div>"
      ],
      "text/plain": [
       "          name  age  year team  league  player_salary  percent_season_played  \\\n",
       "0  Bobby Abreu   26  2000  PHI       0        4354977               0.994676   \n",
       "1  Bobby Abreu   27  2001  PHI       0        7193330               1.029782   \n",
       "2  Bobby Abreu   28  2002  PHI       0        9000338               1.001989   \n",
       "3  Bobby Abreu   29  2003  PHI       0       12643905               1.016617   \n",
       "4  Bobby Abreu   30  2004  PHI       0       14346025               1.042947   \n",
       "\n",
       "    war_psp  num_dl_movements  team_win_percentage  team_payroll  \\\n",
       "0  6.213081                 0             0.401235      69700927   \n",
       "1  5.039903                 0             0.530864      60144837   \n",
       "2  5.818425                 0             0.493827      82364470   \n",
       "3  5.282226                 0             0.530864      98344579   \n",
       "4  6.289872                 0             0.530864     126162692   \n",
       "\n",
       "   percent_contract_complete  \n",
       "0                  33.333332  \n",
       "1                  66.666664  \n",
       "2                 100.000000  \n",
       "3                  16.666668  \n",
       "4                  33.333332  "
      ]
     },
     "execution_count": 16,
     "metadata": {},
     "output_type": "execute_result"
    }
   ],
   "source": [
    "MLB_df = MLB_df.replace({'league': {'NL': 0, 'AL': 1, 'AL/NL': 2}})\n",
    "MLB_df.head()"
   ]
  },
  {
   "cell_type": "markdown",
   "id": "finite-activity",
   "metadata": {},
   "source": [
    "    Now we are going to view the different team names in this dataset:"
   ]
  },
  {
   "cell_type": "code",
   "execution_count": 17,
   "id": "metropolitan-spectacular",
   "metadata": {},
   "outputs": [
    {
     "data": {
      "text/plain": [
       "167"
      ]
     },
     "execution_count": 17,
     "metadata": {},
     "output_type": "execute_result"
    }
   ],
   "source": [
    "team_names = MLB_df[\"team\"].unique().tolist()\n",
    "len(team_names)"
   ]
  },
  {
   "cell_type": "markdown",
   "id": "swiss-intellectual",
   "metadata": {},
   "source": [
    "    there are 167 unique team names / trades in our current dataframe\n",
    "    \n",
    "    from here we need to either encode the values or determine if the team name plays a imperative role in our analysis."
   ]
  },
  {
   "cell_type": "code",
   "execution_count": 18,
   "id": "labeled-measure",
   "metadata": {},
   "outputs": [],
   "source": [
    "team_names_dict = {team_names[i]: i for i in range(len(team_names))}"
   ]
  },
  {
   "cell_type": "markdown",
   "id": "dynamic-poison",
   "metadata": {},
   "source": [
    "    from the team_names_dict we will conver the team values to their encoded values that they are given by the dictionary "
   ]
  },
  {
   "cell_type": "code",
   "execution_count": 19,
   "id": "amino-military",
   "metadata": {},
   "outputs": [
    {
     "data": {
      "text/html": [
       "<div>\n",
       "<style scoped>\n",
       "    .dataframe tbody tr th:only-of-type {\n",
       "        vertical-align: middle;\n",
       "    }\n",
       "\n",
       "    .dataframe tbody tr th {\n",
       "        vertical-align: top;\n",
       "    }\n",
       "\n",
       "    .dataframe thead th {\n",
       "        text-align: right;\n",
       "    }\n",
       "</style>\n",
       "<table border=\"1\" class=\"dataframe\">\n",
       "  <thead>\n",
       "    <tr style=\"text-align: right;\">\n",
       "      <th></th>\n",
       "      <th>name</th>\n",
       "      <th>age</th>\n",
       "      <th>year</th>\n",
       "      <th>team</th>\n",
       "      <th>league</th>\n",
       "      <th>player_salary</th>\n",
       "      <th>percent_season_played</th>\n",
       "      <th>war_psp</th>\n",
       "      <th>num_dl_movements</th>\n",
       "      <th>team_win_percentage</th>\n",
       "      <th>team_payroll</th>\n",
       "      <th>percent_contract_complete</th>\n",
       "    </tr>\n",
       "  </thead>\n",
       "  <tbody>\n",
       "    <tr>\n",
       "      <th>0</th>\n",
       "      <td>Bobby Abreu</td>\n",
       "      <td>26</td>\n",
       "      <td>2000</td>\n",
       "      <td>0</td>\n",
       "      <td>0</td>\n",
       "      <td>4354977</td>\n",
       "      <td>0.994676</td>\n",
       "      <td>6.213081</td>\n",
       "      <td>0</td>\n",
       "      <td>0.401235</td>\n",
       "      <td>69700927</td>\n",
       "      <td>33.333332</td>\n",
       "    </tr>\n",
       "    <tr>\n",
       "      <th>1</th>\n",
       "      <td>Bobby Abreu</td>\n",
       "      <td>27</td>\n",
       "      <td>2001</td>\n",
       "      <td>0</td>\n",
       "      <td>0</td>\n",
       "      <td>7193330</td>\n",
       "      <td>1.029782</td>\n",
       "      <td>5.039903</td>\n",
       "      <td>0</td>\n",
       "      <td>0.530864</td>\n",
       "      <td>60144837</td>\n",
       "      <td>66.666664</td>\n",
       "    </tr>\n",
       "    <tr>\n",
       "      <th>2</th>\n",
       "      <td>Bobby Abreu</td>\n",
       "      <td>28</td>\n",
       "      <td>2002</td>\n",
       "      <td>0</td>\n",
       "      <td>0</td>\n",
       "      <td>9000338</td>\n",
       "      <td>1.001989</td>\n",
       "      <td>5.818425</td>\n",
       "      <td>0</td>\n",
       "      <td>0.493827</td>\n",
       "      <td>82364470</td>\n",
       "      <td>100.000000</td>\n",
       "    </tr>\n",
       "    <tr>\n",
       "      <th>3</th>\n",
       "      <td>Bobby Abreu</td>\n",
       "      <td>29</td>\n",
       "      <td>2003</td>\n",
       "      <td>0</td>\n",
       "      <td>0</td>\n",
       "      <td>12643905</td>\n",
       "      <td>1.016617</td>\n",
       "      <td>5.282226</td>\n",
       "      <td>0</td>\n",
       "      <td>0.530864</td>\n",
       "      <td>98344579</td>\n",
       "      <td>16.666668</td>\n",
       "    </tr>\n",
       "    <tr>\n",
       "      <th>4</th>\n",
       "      <td>Bobby Abreu</td>\n",
       "      <td>30</td>\n",
       "      <td>2004</td>\n",
       "      <td>0</td>\n",
       "      <td>0</td>\n",
       "      <td>14346025</td>\n",
       "      <td>1.042947</td>\n",
       "      <td>6.289872</td>\n",
       "      <td>0</td>\n",
       "      <td>0.530864</td>\n",
       "      <td>126162692</td>\n",
       "      <td>33.333332</td>\n",
       "    </tr>\n",
       "  </tbody>\n",
       "</table>\n",
       "</div>"
      ],
      "text/plain": [
       "          name  age  year  team  league  player_salary  percent_season_played  \\\n",
       "0  Bobby Abreu   26  2000     0       0        4354977               0.994676   \n",
       "1  Bobby Abreu   27  2001     0       0        7193330               1.029782   \n",
       "2  Bobby Abreu   28  2002     0       0        9000338               1.001989   \n",
       "3  Bobby Abreu   29  2003     0       0       12643905               1.016617   \n",
       "4  Bobby Abreu   30  2004     0       0       14346025               1.042947   \n",
       "\n",
       "    war_psp  num_dl_movements  team_win_percentage  team_payroll  \\\n",
       "0  6.213081                 0             0.401235      69700927   \n",
       "1  5.039903                 0             0.530864      60144837   \n",
       "2  5.818425                 0             0.493827      82364470   \n",
       "3  5.282226                 0             0.530864      98344579   \n",
       "4  6.289872                 0             0.530864     126162692   \n",
       "\n",
       "   percent_contract_complete  \n",
       "0                  33.333332  \n",
       "1                  66.666664  \n",
       "2                 100.000000  \n",
       "3                  16.666668  \n",
       "4                  33.333332  "
      ]
     },
     "execution_count": 19,
     "metadata": {},
     "output_type": "execute_result"
    }
   ],
   "source": [
    "MLB_df = MLB_df.replace({'team': team_names_dict})\n",
    "MLB_df.head()"
   ]
  },
  {
   "cell_type": "markdown",
   "id": "close-battlefield",
   "metadata": {},
   "source": [
    "#### Now we will split our data into training and test sets \n"
   ]
  },
  {
   "cell_type": "code",
   "execution_count": 20,
   "id": "cosmetic-present",
   "metadata": {},
   "outputs": [],
   "source": [
    "# Creating feautres\n",
    "\n",
    "#X = MLB_df.drop(columns=\"war_psp\")\n",
    "#X = pd.get_dummies(X)\n",
    "\n",
    "# Creating our target\n",
    "#y = MLB_df.loc[:, target].copy()"
   ]
  },
  {
   "cell_type": "code",
   "execution_count": 21,
   "id": "large-exception",
   "metadata": {},
   "outputs": [],
   "source": [
    "#X.describe()"
   ]
  },
  {
   "cell_type": "code",
   "execution_count": 22,
   "id": "attempted-glucose",
   "metadata": {},
   "outputs": [],
   "source": [
    "# check the balance of our target values \n",
    "#y[\"war_psp\"].value_counts()"
   ]
  },
  {
   "cell_type": "code",
   "execution_count": 23,
   "id": "elder-compensation",
   "metadata": {},
   "outputs": [],
   "source": [
    "#from sklearn.model_selection import train_test_split\n",
    "\n",
    "#X_train, X_test, y_train, y_test = train_test_split(X, y, random_state=1)\n"
   ]
  },
  {
   "cell_type": "markdown",
   "id": "northern-block",
   "metadata": {},
   "source": [
    "### Method 1: Oversampling\n",
    "comparing two oversampling algorithms, naive and SMOTE, will lead us to the best performing algorithm. \n",
    "\n",
    "The steps within both oversampling methods are as follows\n",
    "\n",
    "1. View the count of the target classes using Counter from the collections library.\n",
    "    1. Viewing the count of the target classes will allow us to see the official number of target variables that are used in this approach.\n",
    "2. Use the resampled data to train a logistic regression model.\n",
    "    1.  reamspling the training data to a logistic regression model is an attempt to have more accurate representation of points\n",
    "3. Calculate the balanced accuracy score from sklearn.metrics.\n",
    "    1. The balanced accuracy score will inform us on whether or not this method is statistically significant or not - if the accuracy is 95% or higher the model is considered to be an accurate representation. \n",
    "4. Print the confusion matrix from sklearn.metrics.\n",
    "5. Generate a classication report using the imbalanced_classification_report from imbalanced-learn.\n"
   ]
  },
  {
   "cell_type": "code",
   "execution_count": null,
   "id": "fundamental-speaking",
   "metadata": {},
   "outputs": [],
   "source": []
  }
 ],
 "metadata": {
  "kernelspec": {
   "display_name": "PythonData2",
   "language": "python",
   "name": "pythondata2"
  },
  "language_info": {
   "codemirror_mode": {
    "name": "ipython",
    "version": 3
   },
   "file_extension": ".py",
   "mimetype": "text/x-python",
   "name": "python",
   "nbconvert_exporter": "python",
   "pygments_lexer": "ipython3",
   "version": "3.9.1"
  }
 },
 "nbformat": 4,
 "nbformat_minor": 5
}
