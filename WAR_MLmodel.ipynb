{
 "cells": [
  {
   "cell_type": "code",
   "execution_count": 1,
   "id": "steady-column",
   "metadata": {},
   "outputs": [],
   "source": [
    "import warnings\n",
    "warnings.filterwarnings('ignore')"
   ]
  },
  {
   "cell_type": "code",
   "execution_count": 2,
   "id": "intimate-dominant",
   "metadata": {},
   "outputs": [],
   "source": [
    "import numpy as np\n",
    "import pandas as pd\n",
    "from pathlib import Path\n",
    "from collections import Counter"
   ]
  },
  {
   "cell_type": "markdown",
   "id": "meaning-trinidad",
   "metadata": {},
   "source": [
    "#### Reading in the CSV files and cleaning the data set is the first step to the Machine Learning model analysis.\n",
    "\n",
    "Here we will create a list of the column names and a list with the target column. These lists will be used after we load in the csv file in order to keep the columns that are needed in the analysis."
   ]
  },
  {
   "cell_type": "code",
   "execution_count": 3,
   "id": "passing-medicaid",
   "metadata": {},
   "outputs": [],
   "source": [
    "columns = [\"Age\", \"Year of Season\", \"Team (Encoded)\", \"NL/AL\", \"% of Season Played\",\n",
    "           \"Player's Division\", \"# DL Trips (within single season)\", \"% of Remaining Contract\",\n",
    "           \"Contract Term\", \"Total Contract Money ($$$)\", \"Yearly Salary\", \"Team Payroll *\", \"Team Wins **\", \n",
    "           \"Team Franchise Value\"]\n",
    "\n",
    "target = [\"WAR/Games Played\"]"
   ]
  },
  {
   "cell_type": "markdown",
   "id": "heated-sharp",
   "metadata": {},
   "source": [
    "Loading in the data and cleaning it will be the next steps in this analysis. This will allow us to separate the data into testing and training sets. This is a resampling method. "
   ]
  },
  {
   "cell_type": "code",
   "execution_count": 4,
   "id": "interstate-reasoning",
   "metadata": {
    "collapsed": true
   },
   "outputs": [
    {
     "ename": "SyntaxError",
     "evalue": "invalid syntax (<ipython-input-4-d2a2f7fb6ab4>, line 3)",
     "output_type": "error",
     "traceback": [
      "\u001b[0;36m  File \u001b[0;32m\"<ipython-input-4-d2a2f7fb6ab4>\"\u001b[0;36m, line \u001b[0;32m3\u001b[0m\n\u001b[0;31m    MLB_df = pd.read_csv(MLB_data, skiprows= )[ ]\u001b[0m\n\u001b[0m                                             ^\u001b[0m\n\u001b[0;31mSyntaxError\u001b[0m\u001b[0;31m:\u001b[0m invalid syntax\n"
     ]
    }
   ],
   "source": [
    "MLB_data = Path(' ')\n",
    "\n",
    "MLB_df = pd.read_csv(MLB_data, skiprows= )[ ]\n",
    "MLB_df = MLB_df.loc[:, columns].copy()\n",
    "\n",
    "# dropping the null values will help us get rid of any empty data  \n",
    "# this will prevent skewed results - we do this to both rows and columns\n",
    "\n",
    "# dropping null columns where all values are null\n",
    "MLB_df = MLB_df.drop(axis='columns', how='all')\n",
    "\n",
    "# dropping null rows\n",
    "MLB_df = df.dropna()\n",
    "\n",
    "# converting to numerical values\n",
    "\n",
    "# converting target column values to high_WAR and low_WAR based on their values\n",
    "\n",
    "# need final csv files for this\n",
    "\n",
    "#x = { 'Current' : 'low_WAR'}\n",
    "#MLB_df = MLB_df.replace(x)\n",
    "\n",
    "# x dict from keys - need to look at the final csv file to \n",
    "\n",
    "# x = dict.fromkeys([])\n",
    "# MLB_df = MLB_df.replace(x)\n",
    "\n",
    "# resetting the index \n",
    "\n",
    "MLB_df.reset_index(inplace=True, drop=True)\n",
    "\n",
    "# display our MLB data frame \n",
    "\n",
    "MLB_df.head()"
   ]
  },
  {
   "cell_type": "markdown",
   "id": "funded-cinema",
   "metadata": {},
   "source": [
    "#### Now we will split our data into training and test sets \n"
   ]
  },
  {
   "cell_type": "code",
   "execution_count": null,
   "id": "specified-metadata",
   "metadata": {},
   "outputs": [],
   "source": [
    "# Creating feautres\n",
    "\n",
    "X = MLB_df.drop(columns=\"WAR/Games Played\")\n",
    "X = pd.get_dummies(X)\n",
    "\n",
    "# Creating our target\n",
    "y = MLB_df.loc[:, target].copy()"
   ]
  },
  {
   "cell_type": "code",
   "execution_count": null,
   "id": "religious-element",
   "metadata": {},
   "outputs": [],
   "source": [
    "X.describe()"
   ]
  },
  {
   "cell_type": "code",
   "execution_count": null,
   "id": "guilty-burning",
   "metadata": {},
   "outputs": [],
   "source": [
    "# check the balance of our target values \n",
    "y[\"WAR/Games Played\"].value_counts()"
   ]
  },
  {
   "cell_type": "code",
   "execution_count": null,
   "id": "liberal-association",
   "metadata": {},
   "outputs": [],
   "source": [
    "from sklearn.model_selection import train_test_split\n",
    "\n",
    "X_train, X_test, y_train, y_test = train_test_split(X, y, random_state=1)\n"
   ]
  },
  {
   "cell_type": "code",
   "execution_count": null,
   "id": "female-trainer",
   "metadata": {},
   "outputs": [],
   "source": []
  }
 ],
 "metadata": {
  "kernelspec": {
   "display_name": "mlenv",
   "language": "python",
   "name": "mlenv"
  },
  "language_info": {
   "codemirror_mode": {
    "name": "ipython",
    "version": 3
   },
   "file_extension": ".py",
   "mimetype": "text/x-python",
   "name": "python",
   "nbconvert_exporter": "python",
   "pygments_lexer": "ipython3",
   "version": "3.7.9"
  }
 },
 "nbformat": 4,
 "nbformat_minor": 5
}
